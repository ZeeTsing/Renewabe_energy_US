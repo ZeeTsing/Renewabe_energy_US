{
 "cells": [
  {
   "cell_type": "code",
   "execution_count": 1,
   "metadata": {},
   "outputs": [],
   "source": [
    "import pandas as pd\n",
    "import numpy as np"
   ]
  },
  {
   "cell_type": "code",
   "execution_count": 2,
   "metadata": {},
   "outputs": [],
   "source": [
    "path_csv = 'G:/Github/Renewabe_energy_US/data/Cities_Data_2017-2019_mb2.csv'\n",
    "path_xsl = 'G:/Github/Renewabe_energy_US/data/Cities_Data_2017-2019_mb2.xlsx'\n",
    "\n",
    "data = pd.read_excel(path_xsl)"
   ]
  },
  {
   "cell_type": "code",
   "execution_count": 3,
   "metadata": {},
   "outputs": [],
   "source": [
    "column_name = {'Project Year':'year','Account Name':'city_full', 'Question Number':'Qn','Row Number':'row_num','Row Name':'row_name',\n",
    "              'Column Number':'col_num','Column Name':'col_name','Response Answer':'response'}"
   ]
  },
  {
   "cell_type": "code",
   "execution_count": 4,
   "metadata": {},
   "outputs": [],
   "source": [
    "data.rename(columns=column_name,inplace=True)"
   ]
  },
  {
   "cell_type": "code",
   "execution_count": 5,
   "metadata": {},
   "outputs": [],
   "source": [
    "def get_data_table_supply(qn_num,year,data):\n",
    "    mask_qn = (data.year == year) & (data.Qn == qn_num) & (data.col_num ==1)\n",
    "    df = pd.DataFrame(data[mask_qn])\n",
    "    results = {}\n",
    "    \n",
    "    for col_name in df.row_name.unique():\n",
    "        mask_current = df.row_name == col_name\n",
    "        col_values = df[mask_current].sort_values(by=['city_full','row_num'],ascending=True).response.values\n",
    "        results.update({col_name:col_values})\n",
    "    \n",
    "    cities = df[mask_current].sort_values(by=['city_full','row_num'],ascending=True).city_full.values\n",
    "    results.update({'city_full':cities})\n",
    "    return pd.DataFrame.from_dict(results)"
   ]
  },
  {
   "cell_type": "code",
   "execution_count": 6,
   "metadata": {},
   "outputs": [],
   "source": [
    "supply_2019 = get_data_table_supply(8.5,2019,data)"
   ]
  },
  {
   "cell_type": "code",
   "execution_count": 39,
   "metadata": {
    "scrolled": true
   },
   "outputs": [
    {
     "data": {
      "text/html": [
       "<div>\n",
       "<style scoped>\n",
       "    .dataframe tbody tr th:only-of-type {\n",
       "        vertical-align: middle;\n",
       "    }\n",
       "\n",
       "    .dataframe tbody tr th {\n",
       "        vertical-align: top;\n",
       "    }\n",
       "\n",
       "    .dataframe thead th {\n",
       "        text-align: right;\n",
       "    }\n",
       "</style>\n",
       "<table border=\"1\" class=\"dataframe\">\n",
       "  <thead>\n",
       "    <tr style=\"text-align: right;\">\n",
       "      <th></th>\n",
       "      <th>Wind</th>\n",
       "      <th>Ground or water source</th>\n",
       "      <th>Solar thermal</th>\n",
       "      <th>Solar PV</th>\n",
       "      <th>Renewable district heat/cooling</th>\n",
       "      <th>Other: (please specify)</th>\n",
       "      <th>city_full</th>\n",
       "    </tr>\n",
       "  </thead>\n",
       "  <tbody>\n",
       "    <tr>\n",
       "      <th>0</th>\n",
       "      <td>NaN</td>\n",
       "      <td>NaN</td>\n",
       "      <td>NaN</td>\n",
       "      <td>NaN</td>\n",
       "      <td>NaN</td>\n",
       "      <td>NaN</td>\n",
       "      <td>Abington Township</td>\n",
       "    </tr>\n",
       "    <tr>\n",
       "      <th>1</th>\n",
       "      <td>0</td>\n",
       "      <td>0</td>\n",
       "      <td>0</td>\n",
       "      <td>2</td>\n",
       "      <td>0</td>\n",
       "      <td>0</td>\n",
       "      <td>Arlington, VA</td>\n",
       "    </tr>\n",
       "    <tr>\n",
       "      <th>2</th>\n",
       "      <td>191560</td>\n",
       "      <td>0</td>\n",
       "      <td>0</td>\n",
       "      <td>734441</td>\n",
       "      <td>NaN</td>\n",
       "      <td>436161</td>\n",
       "      <td>City and County of Honolulu</td>\n",
       "    </tr>\n",
       "    <tr>\n",
       "      <th>3</th>\n",
       "      <td>NaN</td>\n",
       "      <td>1.42</td>\n",
       "      <td>NaN</td>\n",
       "      <td>1.9</td>\n",
       "      <td>NaN</td>\n",
       "      <td>NaN</td>\n",
       "      <td>City of Ann Arbor</td>\n",
       "    </tr>\n",
       "    <tr>\n",
       "      <th>4</th>\n",
       "      <td>NaN</td>\n",
       "      <td>NaN</td>\n",
       "      <td>NaN</td>\n",
       "      <td>NaN</td>\n",
       "      <td>NaN</td>\n",
       "      <td>NaN</td>\n",
       "      <td>City of Asheville</td>\n",
       "    </tr>\n",
       "    <tr>\n",
       "      <th>...</th>\n",
       "      <td>...</td>\n",
       "      <td>...</td>\n",
       "      <td>...</td>\n",
       "      <td>...</td>\n",
       "      <td>...</td>\n",
       "      <td>...</td>\n",
       "      <td>...</td>\n",
       "    </tr>\n",
       "    <tr>\n",
       "      <th>100</th>\n",
       "      <td>NaN</td>\n",
       "      <td>NaN</td>\n",
       "      <td>NaN</td>\n",
       "      <td>3</td>\n",
       "      <td>NaN</td>\n",
       "      <td>NaN</td>\n",
       "      <td>Town of Princeton, NJ</td>\n",
       "    </tr>\n",
       "    <tr>\n",
       "      <th>101</th>\n",
       "      <td>NaN</td>\n",
       "      <td>NaN</td>\n",
       "      <td>NaN</td>\n",
       "      <td>1.5</td>\n",
       "      <td>NaN</td>\n",
       "      <td>NaN</td>\n",
       "      <td>Town of Secaucus, NJ</td>\n",
       "    </tr>\n",
       "    <tr>\n",
       "      <th>102</th>\n",
       "      <td>0</td>\n",
       "      <td>0</td>\n",
       "      <td>0</td>\n",
       "      <td>20</td>\n",
       "      <td>0</td>\n",
       "      <td>NaN</td>\n",
       "      <td>Town of Vail, CO</td>\n",
       "    </tr>\n",
       "    <tr>\n",
       "      <th>103</th>\n",
       "      <td>NaN</td>\n",
       "      <td>NaN</td>\n",
       "      <td>NaN</td>\n",
       "      <td>NaN</td>\n",
       "      <td>NaN</td>\n",
       "      <td>NaN</td>\n",
       "      <td>Town of Whitby, ON</td>\n",
       "    </tr>\n",
       "    <tr>\n",
       "      <th>104</th>\n",
       "      <td>NaN</td>\n",
       "      <td>NaN</td>\n",
       "      <td>NaN</td>\n",
       "      <td>NaN</td>\n",
       "      <td>NaN</td>\n",
       "      <td>4.8</td>\n",
       "      <td>Ville de Montreal</td>\n",
       "    </tr>\n",
       "  </tbody>\n",
       "</table>\n",
       "<p>105 rows × 7 columns</p>\n",
       "</div>"
      ],
      "text/plain": [
       "       Wind Ground or water source Solar thermal Solar PV  \\\n",
       "0       NaN                    NaN           NaN      NaN   \n",
       "1         0                      0             0        2   \n",
       "2    191560                      0             0   734441   \n",
       "3       NaN                   1.42           NaN      1.9   \n",
       "4       NaN                    NaN           NaN      NaN   \n",
       "..      ...                    ...           ...      ...   \n",
       "100     NaN                    NaN           NaN        3   \n",
       "101     NaN                    NaN           NaN      1.5   \n",
       "102       0                      0             0       20   \n",
       "103     NaN                    NaN           NaN      NaN   \n",
       "104     NaN                    NaN           NaN      NaN   \n",
       "\n",
       "    Renewable district heat/cooling Other: (please specify)  \\\n",
       "0                               NaN                     NaN   \n",
       "1                                 0                       0   \n",
       "2                               NaN                  436161   \n",
       "3                               NaN                     NaN   \n",
       "4                               NaN                     NaN   \n",
       "..                              ...                     ...   \n",
       "100                             NaN                     NaN   \n",
       "101                             NaN                     NaN   \n",
       "102                               0                     NaN   \n",
       "103                             NaN                     NaN   \n",
       "104                             NaN                     4.8   \n",
       "\n",
       "                       city_full  \n",
       "0              Abington Township  \n",
       "1                  Arlington, VA  \n",
       "2    City and County of Honolulu  \n",
       "3              City of Ann Arbor  \n",
       "4              City of Asheville  \n",
       "..                           ...  \n",
       "100        Town of Princeton, NJ  \n",
       "101         Town of Secaucus, NJ  \n",
       "102             Town of Vail, CO  \n",
       "103           Town of Whitby, ON  \n",
       "104            Ville de Montreal  \n",
       "\n",
       "[105 rows x 7 columns]"
      ]
     },
     "execution_count": 39,
     "metadata": {},
     "output_type": "execute_result"
    }
   ],
   "source": [
    "supply_2019"
   ]
  },
  {
   "cell_type": "code",
   "execution_count": 40,
   "metadata": {},
   "outputs": [],
   "source": [
    "sf_only = supply_2019.city_full == 'City of San Francisco'"
   ]
  },
  {
   "cell_type": "code",
   "execution_count": 41,
   "metadata": {},
   "outputs": [
    {
     "data": {
      "text/html": [
       "<div>\n",
       "<style scoped>\n",
       "    .dataframe tbody tr th:only-of-type {\n",
       "        vertical-align: middle;\n",
       "    }\n",
       "\n",
       "    .dataframe tbody tr th {\n",
       "        vertical-align: top;\n",
       "    }\n",
       "\n",
       "    .dataframe thead th {\n",
       "        text-align: right;\n",
       "    }\n",
       "</style>\n",
       "<table border=\"1\" class=\"dataframe\">\n",
       "  <thead>\n",
       "    <tr style=\"text-align: right;\">\n",
       "      <th></th>\n",
       "      <th>Wind</th>\n",
       "      <th>Ground or water source</th>\n",
       "      <th>Solar thermal</th>\n",
       "      <th>Solar PV</th>\n",
       "      <th>Renewable district heat/cooling</th>\n",
       "      <th>Other: (please specify)</th>\n",
       "      <th>city_full</th>\n",
       "    </tr>\n",
       "  </thead>\n",
       "  <tbody>\n",
       "    <tr>\n",
       "      <th>69</th>\n",
       "      <td>0.25</td>\n",
       "      <td>0</td>\n",
       "      <td>0</td>\n",
       "      <td>37</td>\n",
       "      <td>0</td>\n",
       "      <td>0</td>\n",
       "      <td>City of San Francisco</td>\n",
       "    </tr>\n",
       "  </tbody>\n",
       "</table>\n",
       "</div>"
      ],
      "text/plain": [
       "    Wind Ground or water source Solar thermal Solar PV  \\\n",
       "69  0.25                      0             0       37   \n",
       "\n",
       "   Renewable district heat/cooling Other: (please specify)  \\\n",
       "69                               0                       0   \n",
       "\n",
       "                city_full  \n",
       "69  City of San Francisco  "
      ]
     },
     "execution_count": 41,
     "metadata": {},
     "output_type": "execute_result"
    }
   ],
   "source": [
    "supply_2019[sf_only]"
   ]
  },
  {
   "cell_type": "code",
   "execution_count": 42,
   "metadata": {},
   "outputs": [],
   "source": [
    "supply_2018 = get_data_table_supply(9.1,2018,data)"
   ]
  },
  {
   "cell_type": "code",
   "execution_count": 46,
   "metadata": {},
   "outputs": [
    {
     "data": {
      "text/html": [
       "<div>\n",
       "<style scoped>\n",
       "    .dataframe tbody tr th:only-of-type {\n",
       "        vertical-align: middle;\n",
       "    }\n",
       "\n",
       "    .dataframe tbody tr th {\n",
       "        vertical-align: top;\n",
       "    }\n",
       "\n",
       "    .dataframe thead th {\n",
       "        text-align: right;\n",
       "    }\n",
       "</style>\n",
       "<table border=\"1\" class=\"dataframe\">\n",
       "  <thead>\n",
       "    <tr style=\"text-align: right;\">\n",
       "      <th></th>\n",
       "      <th>Solar PV</th>\n",
       "      <th>Renewable district heat/cooling</th>\n",
       "      <th>Wind</th>\n",
       "      <th>Ground or water source</th>\n",
       "      <th>Solar thermal</th>\n",
       "      <th>Other</th>\n",
       "      <th>city_full</th>\n",
       "    </tr>\n",
       "  </thead>\n",
       "  <tbody>\n",
       "    <tr>\n",
       "      <th>112</th>\n",
       "      <td>37</td>\n",
       "      <td>0</td>\n",
       "      <td>0.25</td>\n",
       "      <td>0</td>\n",
       "      <td>0</td>\n",
       "      <td>0</td>\n",
       "      <td>City of San Francisco</td>\n",
       "    </tr>\n",
       "  </tbody>\n",
       "</table>\n",
       "</div>"
      ],
      "text/plain": [
       "    Solar PV Renewable district heat/cooling  Wind Ground or water source  \\\n",
       "112       37                               0  0.25                      0   \n",
       "\n",
       "    Solar thermal Other              city_full  \n",
       "112             0     0  City of San Francisco  "
      ]
     },
     "execution_count": 46,
     "metadata": {},
     "output_type": "execute_result"
    }
   ],
   "source": [
    "supply_2018[supply_2018.city_full == 'City of San Francisco']"
   ]
  },
  {
   "cell_type": "code",
   "execution_count": 47,
   "metadata": {},
   "outputs": [
    {
     "data": {
      "text/html": [
       "<div>\n",
       "<style scoped>\n",
       "    .dataframe tbody tr th:only-of-type {\n",
       "        vertical-align: middle;\n",
       "    }\n",
       "\n",
       "    .dataframe tbody tr th {\n",
       "        vertical-align: top;\n",
       "    }\n",
       "\n",
       "    .dataframe thead th {\n",
       "        text-align: right;\n",
       "    }\n",
       "</style>\n",
       "<table border=\"1\" class=\"dataframe\">\n",
       "  <thead>\n",
       "    <tr style=\"text-align: right;\">\n",
       "      <th></th>\n",
       "      <th>Solar PV</th>\n",
       "      <th>Renewable district heat/cooling</th>\n",
       "      <th>Wind</th>\n",
       "      <th>Ground or water source</th>\n",
       "      <th>Solar thermal</th>\n",
       "      <th>Other</th>\n",
       "      <th>city_full</th>\n",
       "    </tr>\n",
       "  </thead>\n",
       "  <tbody>\n",
       "  </tbody>\n",
       "</table>\n",
       "</div>"
      ],
      "text/plain": [
       "Empty DataFrame\n",
       "Columns: [Solar PV, Renewable district heat/cooling, Wind, Ground or water source, Solar thermal, Other, city_full]\n",
       "Index: []"
      ]
     },
     "execution_count": 47,
     "metadata": {},
     "output_type": "execute_result"
    }
   ],
   "source": [
    "supply_2018[supply_2018.city_full == 'City of Los Angeles']"
   ]
  },
  {
   "cell_type": "code",
   "execution_count": 48,
   "metadata": {},
   "outputs": [
    {
     "data": {
      "text/html": [
       "<div>\n",
       "<style scoped>\n",
       "    .dataframe tbody tr th:only-of-type {\n",
       "        vertical-align: middle;\n",
       "    }\n",
       "\n",
       "    .dataframe tbody tr th {\n",
       "        vertical-align: top;\n",
       "    }\n",
       "\n",
       "    .dataframe thead th {\n",
       "        text-align: right;\n",
       "    }\n",
       "</style>\n",
       "<table border=\"1\" class=\"dataframe\">\n",
       "  <thead>\n",
       "    <tr style=\"text-align: right;\">\n",
       "      <th></th>\n",
       "      <th>Wind</th>\n",
       "      <th>Ground or water source</th>\n",
       "      <th>Solar thermal</th>\n",
       "      <th>Solar PV</th>\n",
       "      <th>Renewable district heat/cooling</th>\n",
       "      <th>Other: (please specify)</th>\n",
       "      <th>city_full</th>\n",
       "    </tr>\n",
       "  </thead>\n",
       "  <tbody>\n",
       "    <tr>\n",
       "      <th>45</th>\n",
       "      <td>0</td>\n",
       "      <td>14.2</td>\n",
       "      <td>NaN</td>\n",
       "      <td>376.6</td>\n",
       "      <td>295</td>\n",
       "      <td>3</td>\n",
       "      <td>City of Los Angeles</td>\n",
       "    </tr>\n",
       "  </tbody>\n",
       "</table>\n",
       "</div>"
      ],
      "text/plain": [
       "   Wind Ground or water source Solar thermal Solar PV  \\\n",
       "45    0                   14.2           NaN    376.6   \n",
       "\n",
       "   Renewable district heat/cooling Other: (please specify)  \\\n",
       "45                             295                       3   \n",
       "\n",
       "              city_full  \n",
       "45  City of Los Angeles  "
      ]
     },
     "execution_count": 48,
     "metadata": {},
     "output_type": "execute_result"
    }
   ],
   "source": [
    "supply_2019[supply_2019.city_full == 'City of Los Angeles']"
   ]
  },
  {
   "cell_type": "markdown",
   "metadata": {},
   "source": [
    "### great, supply data from this data set don't help much\n",
    "\n",
    "#### let's try to get energy mix"
   ]
  },
  {
   "cell_type": "code",
   "execution_count": 9,
   "metadata": {},
   "outputs": [],
   "source": [
    "def get_data_table_supply_mix(qn_num,year,data):\n",
    "    mask_qn = (data.year == year) & (data.Qn == qn_num)\n",
    "    df = pd.DataFrame(data[mask_qn])\n",
    "    results = {}\n",
    "    \n",
    "    for col_name in df.col_name.unique():\n",
    "        mask_current = df.col_name == col_name\n",
    "        col_values = df[mask_current].sort_values(by=['city_full','row_num'],ascending=True).response.values\n",
    "        results.update({col_name:col_values})\n",
    "    \n",
    "    cities = df[mask_current].sort_values(by=['city_full','row_num'],ascending=True).city_full.values\n",
    "    results.update({'city_full':cities})\n",
    "    return pd.DataFrame.from_dict(results)"
   ]
  },
  {
   "cell_type": "code",
   "execution_count": 10,
   "metadata": {},
   "outputs": [],
   "source": [
    "energy_mix_2017 = get_data_table_supply_mix(8,2017,data)"
   ]
  },
  {
   "cell_type": "code",
   "execution_count": 13,
   "metadata": {},
   "outputs": [],
   "source": [
    "out_path = 'G:/Github/Renewabe_energy_US/output/energy_mix_sf.csv'\n",
    "energy_mix_2017[energy_mix_2017.city_full == 'City of San Francisco'].to_csv(out_path,index=False)"
   ]
  },
  {
   "cell_type": "code",
   "execution_count": null,
   "metadata": {},
   "outputs": [],
   "source": []
  }
 ],
 "metadata": {
  "kernelspec": {
   "display_name": "Python 3",
   "language": "python",
   "name": "python3"
  },
  "language_info": {
   "codemirror_mode": {
    "name": "ipython",
    "version": 3
   },
   "file_extension": ".py",
   "mimetype": "text/x-python",
   "name": "python",
   "nbconvert_exporter": "python",
   "pygments_lexer": "ipython3",
   "version": "3.7.3"
  }
 },
 "nbformat": 4,
 "nbformat_minor": 4
}
